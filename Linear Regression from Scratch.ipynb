{
 "cells": [
  {
   "cell_type": "markdown",
   "metadata": {},
   "source": [
    "Linear Regression from Scratch by means of \"Ordinary Least Mean Square\" and \"Gradient Descent\" approaches"
   ]
  },
  {
   "cell_type": "code",
   "execution_count": 1,
   "metadata": {},
   "outputs": [],
   "source": [
    "import numpy as np\n",
    "import pandas as pd\n",
    "import matplotlib.pyplot as plt"
   ]
  },
  {
   "cell_type": "code",
   "execution_count": 2,
   "metadata": {},
   "outputs": [],
   "source": [
    "dataset = pd.read_csv('dataset.csv')"
   ]
  },
  {
   "cell_type": "code",
   "execution_count": 3,
   "metadata": {
    "scrolled": true
   },
   "outputs": [
    {
     "name": "stdout",
     "output_type": "stream",
     "text": [
      "(100, 2)\n"
     ]
    },
    {
     "data": {
      "text/html": [
       "<div>\n",
       "<style scoped>\n",
       "    .dataframe tbody tr th:only-of-type {\n",
       "        vertical-align: middle;\n",
       "    }\n",
       "\n",
       "    .dataframe tbody tr th {\n",
       "        vertical-align: top;\n",
       "    }\n",
       "\n",
       "    .dataframe thead th {\n",
       "        text-align: right;\n",
       "    }\n",
       "</style>\n",
       "<table border=\"1\" class=\"dataframe\">\n",
       "  <thead>\n",
       "    <tr style=\"text-align: right;\">\n",
       "      <th></th>\n",
       "      <th>input</th>\n",
       "      <th>output</th>\n",
       "    </tr>\n",
       "  </thead>\n",
       "  <tbody>\n",
       "    <tr>\n",
       "      <th>0</th>\n",
       "      <td>7.9856</td>\n",
       "      <td>18.9560</td>\n",
       "    </tr>\n",
       "    <tr>\n",
       "      <th>1</th>\n",
       "      <td>6.5980</td>\n",
       "      <td>10.3210</td>\n",
       "    </tr>\n",
       "    <tr>\n",
       "      <th>2</th>\n",
       "      <td>7.6598</td>\n",
       "      <td>12.4598</td>\n",
       "    </tr>\n",
       "    <tr>\n",
       "      <th>3</th>\n",
       "      <td>7.0001</td>\n",
       "      <td>11.9870</td>\n",
       "    </tr>\n",
       "    <tr>\n",
       "      <th>4</th>\n",
       "      <td>6.5487</td>\n",
       "      <td>8.7854</td>\n",
       "    </tr>\n",
       "  </tbody>\n",
       "</table>\n",
       "</div>"
      ],
      "text/plain": [
       "    input   output\n",
       "0  7.9856  18.9560\n",
       "1  6.5980  10.3210\n",
       "2  7.6598  12.4598\n",
       "3  7.0001  11.9870\n",
       "4  6.5487   8.7854"
      ]
     },
     "execution_count": 3,
     "metadata": {},
     "output_type": "execute_result"
    }
   ],
   "source": [
    "#  to have a closer look ;)\n",
    "print(dataset.shape)\n",
    "dataset.head()"
   ]
  },
  {
   "cell_type": "code",
   "execution_count": 4,
   "metadata": {},
   "outputs": [
    {
     "data": {
      "text/html": [
       "<div>\n",
       "<style scoped>\n",
       "    .dataframe tbody tr th:only-of-type {\n",
       "        vertical-align: middle;\n",
       "    }\n",
       "\n",
       "    .dataframe tbody tr th {\n",
       "        vertical-align: top;\n",
       "    }\n",
       "\n",
       "    .dataframe thead th {\n",
       "        text-align: right;\n",
       "    }\n",
       "</style>\n",
       "<table border=\"1\" class=\"dataframe\">\n",
       "  <thead>\n",
       "    <tr style=\"text-align: right;\">\n",
       "      <th></th>\n",
       "      <th>input</th>\n",
       "      <th>output</th>\n",
       "    </tr>\n",
       "  </thead>\n",
       "  <tbody>\n",
       "    <tr>\n",
       "      <th>count</th>\n",
       "      <td>100.000000</td>\n",
       "      <td>100.000000</td>\n",
       "    </tr>\n",
       "    <tr>\n",
       "      <th>mean</th>\n",
       "      <td>8.235896</td>\n",
       "      <td>5.982660</td>\n",
       "    </tr>\n",
       "    <tr>\n",
       "      <th>std</th>\n",
       "      <td>3.941486</td>\n",
       "      <td>5.517667</td>\n",
       "    </tr>\n",
       "    <tr>\n",
       "      <th>min</th>\n",
       "      <td>2.365000</td>\n",
       "      <td>-2.680700</td>\n",
       "    </tr>\n",
       "    <tr>\n",
       "      <th>25%</th>\n",
       "      <td>5.709950</td>\n",
       "      <td>2.039925</td>\n",
       "    </tr>\n",
       "    <tr>\n",
       "      <th>50%</th>\n",
       "      <td>6.941300</td>\n",
       "      <td>4.744700</td>\n",
       "    </tr>\n",
       "    <tr>\n",
       "      <th>75%</th>\n",
       "      <td>9.061175</td>\n",
       "      <td>7.305225</td>\n",
       "    </tr>\n",
       "    <tr>\n",
       "      <th>max</th>\n",
       "      <td>22.203000</td>\n",
       "      <td>24.147000</td>\n",
       "    </tr>\n",
       "  </tbody>\n",
       "</table>\n",
       "</div>"
      ],
      "text/plain": [
       "            input      output\n",
       "count  100.000000  100.000000\n",
       "mean     8.235896    5.982660\n",
       "std      3.941486    5.517667\n",
       "min      2.365000   -2.680700\n",
       "25%      5.709950    2.039925\n",
       "50%      6.941300    4.744700\n",
       "75%      9.061175    7.305225\n",
       "max     22.203000   24.147000"
      ]
     },
     "execution_count": 4,
     "metadata": {},
     "output_type": "execute_result"
    }
   ],
   "source": [
    "dataset.describe()"
   ]
  },
  {
   "cell_type": "code",
   "execution_count": 5,
   "metadata": {},
   "outputs": [
    {
     "data": {
      "image/png": "[encoded data removed]",
      "text/plain": [
       "<Figure size 432x288 with 1 Axes>"
      ]
     },
     "metadata": {
      "needs_background": "light"
     },
     "output_type": "display_data"
    }
   ],
   "source": [
    "#  to initialize input and putput as X and y by means of np.array()\n",
    "arr = np.array(dataset)\n",
    "X = arr[:,0]\n",
    "y = arr[:,1]\n",
    "plt.scatter(X, y, alpha=0.6, s=25)\n",
    "plt.title('our dataset')\n",
    "plt.xlabel('input')\n",
    "plt.ylabel('output')\n",
    "plt.xlim(0,25)\n",
    "plt.ylim(-5,25)\n",
    "plt.grid()\n",
    "plt.show()"
   ]
  },
  {
   "cell_type": "code",
   "execution_count": 6,
   "metadata": {},
   "outputs": [],
   "source": [
    "def predict(x, thetas):\n",
    "    return (x * thetas[1] + thetas[0])"
   ]
  },
  {
   "cell_type": "code",
   "execution_count": 7,
   "metadata": {},
   "outputs": [
    {
     "name": "stdout",
     "output_type": "stream",
     "text": [
      "theta0 : -3.5395670368581893 \n",
      "theta1 : 1.1561859373719858\n"
     ]
    }
   ],
   "source": [
    "X_mean = np.mean(X)\n",
    "y_mean = np.mean(y)\n",
    "#  to calculate theta0 and theta1 by means of LSE\n",
    "temp0 = 0\n",
    "temp1 = 0\n",
    "for index in range(len(X)):\n",
    "    temp0 += (X[index] - X_mean) * (y[index] - y_mean)\n",
    "    temp1 += (X[index] - X_mean) ** 2\n",
    "    \n",
    "theta1 = temp0 / temp1\n",
    "theta0 = y_mean - (theta1 * X_mean)\n",
    "print('theta0 : {} \\ntheta1 : {}'.format(theta0, theta1))"
   ]
  },
  {
   "cell_type": "markdown",
   "metadata": {},
   "source": [
    "now theta0 as bias coefficient and theta1 as scale factor gained as results,\n",
    "\n",
    "in some resources they recognized as 'b' and 'm' something like in the line equation : y = mx+b"
   ]
  },
  {
   "cell_type": "code",
   "execution_count": 8,
   "metadata": {
    "scrolled": true
   },
   "outputs": [
    {
     "data": {
      "image/png": "[encoded data removed]",
      "text/plain": [
       "<Figure size 432x288 with 1 Axes>"
      ]
     },
     "metadata": {
      "needs_background": "light"
     },
     "output_type": "display_data"
    }
   ],
   "source": [
    "#to plot what we gained as results\n",
    "X_max = np.max(X)\n",
    "X_min = np.min(X)\n",
    "x_plt = np.linspace(X_min, X_max, 1000)\n",
    "y_plt = predict(x_plt,(theta0, theta1))\n",
    "plt.plot(x_plt, y_plt, color='darkred', label='Linear Regression')\n",
    "\n",
    "#  plot again our dataset to have a closer look\n",
    "arr = np.array(dataset)\n",
    "X = arr[:,0]\n",
    "y = arr[:,1]\n",
    "plt.scatter(X, y, alpha=0.5, s=25, label='data points')\n",
    "plt.title('our dataset')\n",
    "plt.xlabel('input')\n",
    "plt.ylabel('output')\n",
    "plt.xlim(0,25)\n",
    "plt.ylim(-5,25)\n",
    "plt.grid()\n",
    "plt.legend()\n",
    "plt.show()"
   ]
  }
 ],
 "metadata": {
  "kernelspec": {
   "display_name": "Python 3",
   "language": "python",
   "name": "python3"
  },
  "language_info": {
   "codemirror_mode": {
    "name": "ipython",
    "version": 3
   },
   "file_extension": ".py",
   "mimetype": "text/x-python",
   "name": "python",
   "nbconvert_exporter": "python",
   "pygments_lexer": "ipython3",
   "version": "3.8.5"
  }
 },
 "nbformat": 4,
 "nbformat_minor": 4
}
